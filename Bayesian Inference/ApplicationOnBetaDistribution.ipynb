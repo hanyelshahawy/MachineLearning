{
 "cells": [
  {
   "cell_type": "markdown",
   "metadata": {},
   "source": [
    "bayesian inference example\n",
    "A campaign on fb where clicks of users on the ad are success and not clicking is failure\n",
    "The ad has been presented to 10 users so far, and 7 of the users have clicked on it. We would like to estimate the probability that the next user will click on the ad. "
   ]
  },
  {
   "cell_type": "code",
   "execution_count": null,
   "metadata": {
    "collapsed": true
   },
   "outputs": [],
   "source": [
    "# import libraries\n",
    "import numpy as np,pandas as pd\n",
    "from scipy.misc import factorial\n",
    "import matplotlib.pyplot as plt\n",
    "%matplotlib inline\n",
    "plt.rcParams['figure.figsize'] = (16,7)"
   ]
  },
  {
   "cell_type": "code",
   "execution_count": null,
   "metadata": {
    "collapsed": true
   },
   "outputs": [],
   "source": [
    "# functions\n",
    "def BinomialDistProb(theta, n, x):\n",
    "    \"\"\"\n",
    "    BinomialDistProb function for a binomial distribution\n",
    "    n: [int] the number of experiments\n",
    "    x: [int] the number of successes\n",
    "    theta: [float] the proposed probability of success\n",
    "    return prob. for given inputs\n",
    "    \"\"\"\n",
    "    return (factorial(n) / (factorial(x) * factorial(n - x))) \\\n",
    "            * (theta ** x) * ((1 - theta) ** (n - x))"
   ]
  },
  {
   "cell_type": "code",
   "execution_count": null,
   "metadata": {
    "collapsed": true
   },
   "outputs": [],
   "source": [
    "# variables\n",
    "#the number of impressions for our facebook-yellow-dress campaign\n",
    "n_impressions = 10.\n",
    "#the number of clicks for our facebook-yellow-dress campaign\n",
    "n_clicks = 7.\n",
    "#observed click through rate\n",
    "ctr = n_clicks / n_impressions"
   ]
  },
  {
   "cell_type": "code",
   "execution_count": null,
   "metadata": {},
   "outputs": [],
   "source": [
    "#0 to 1, all possible click through rates\n",
    "possible_theta_valuesTemp =  list(range(0,100))\n",
    "possible_theta_values = [x / 100 for x in possible_theta_valuesTemp]\n",
    "print(possible_theta_values)"
   ]
  },
  {
   "cell_type": "markdown",
   "metadata": {},
   "source": [
    "get likelihood function for binomial distribution; prob that 7 users out of 10 will open\n",
    "facebook ad given the theta value"
   ]
  },
  {
   "cell_type": "code",
   "execution_count": null,
   "metadata": {},
   "outputs": [],
   "source": [
    "likelihoods = []\n",
    "for item in possible_theta_values:\n",
    "    likelihoods.append(likelihood(item,10,7))\n",
    "print(likelihoods)"
   ]
  },
  {
   "cell_type": "code",
   "execution_count": null,
   "metadata": {},
   "outputs": [],
   "source": [
    "#pick the best theta, maximum likelihood estimator\n",
    "mle = possible_theta_values[np.argmax(likelihoods)]\n",
    "#plot\n",
    "f, ax = plt.subplots(1)\n",
    "ax.plot(possible_theta_values, likelihoods)\n",
    "ax.axvline(mle, linestyle = \"--\")\n",
    "ax.set_xlabel(\"Theta\")\n",
    "ax.set_ylabel(\"Likelihood\")\n",
    "ax.grid()\n",
    "ax.set_title(\"Likelihood of Theta for New Campaign\")\n",
    "plt.show()"
   ]
  },
  {
   "cell_type": "markdown",
   "metadata": {},
   "source": [
    "overlay this likelihood function with distribution of click-through rates from our previous 100 campaigns"
   ]
  },
  {
   "cell_type": "code",
   "execution_count": null,
   "metadata": {},
   "outputs": [],
   "source": [
    "# randomly generate \"true\" clicks from beta distribution, 100 random samples(theta) from beta distribution \n",
    "theta_old = np.random.beta(11.5,48.5,size=100)\n",
    "print(theta_old)"
   ]
  },
  {
   "cell_type": "code",
   "execution_count": null,
   "metadata": {},
   "outputs": [],
   "source": [
    "# randomly generate corresponding number of user observations for each campaign\n",
    "impressions_old = np.random.randint(1,10000,size=100)\n",
    "print(impressions_old)"
   ]
  },
  {
   "cell_type": "code",
   "execution_count": null,
   "metadata": {},
   "outputs": [],
   "source": [
    "# sample no of clicks for each campaign\n",
    "clicks_old = np.random.binomial(impressions_old,theta_old).astype(float)\n",
    "np.set_printoptions(precision=4)\n",
    "print(clicks_old)"
   ]
  },
  {
   "cell_type": "markdown",
   "metadata": {},
   "source": [
    "Previous campaigns vs current campaign"
   ]
  },
  {
   "cell_type": "code",
   "execution_count": null,
   "metadata": {},
   "outputs": [],
   "source": [
    "#plot the histogram of previous click through rates with the evidence#of the new campaign\n",
    "f, ax = plt.subplots(1)\n",
    "ax.axvline(mle, linestyle = \"--\")\n",
    "ax.plot(possible_theta_values, likelihoods)\n",
    "zero_to_one = [j/100. for j in range(100)]\n",
    "counts, bins = np.histogram((clicks_old/impressions_old)\n",
    "                            , bins=zero_to_one)\n",
    "counts = counts / 100.\n",
    "ax.plot(bins[:-1],counts, alpha = .5)\n",
    "line1, line2, line3 = ax.lines\n",
    "ax.legend((line2, line3), ('Likelihood of Theta for New Campaign'\n",
    "                           , 'Frequency of Theta Historically')\n",
    "                          , loc = 'upper left')\n",
    "ax.set_xlabel(\"Theta\")\n",
    "ax.grid()\n",
    "ax.set_title(\"Evidence vs Historical Click Through Rates\")\n",
    "plt.show()"
   ]
  },
  {
   "cell_type": "markdown",
   "metadata": {},
   "source": [
    "Choosing beta distribution as a prior for theta, we will fit the distribution to the old campaign data to get the distribution parameters (alpha,beta)"
   ]
  },
  {
   "cell_type": "code",
   "execution_count": null,
   "metadata": {
    "collapsed": true
   },
   "outputs": [],
   "source": [
    "from scipy.stats import beta\n",
    "#fit beta to previous CTRs\n",
    "prior_parameters = beta.fit(theta_old, floc = 0, fscale = 1)"
   ]
  },
  {
   "cell_type": "code",
   "execution_count": null,
   "metadata": {},
   "outputs": [],
   "source": [
    "\n",
    "#extract alpha,beta from fit\n",
    "alpha, betavar = prior_parameters[0:2]\n",
    "\n",
    "#define prior distribution sample from prior\n",
    "prior_distribution = beta(alpha, betavar)\n",
    "#get histogram of samples\n",
    "prior_samples = prior_distribution.rvs(10000)\n",
    "#get histogram of samples\n",
    "fit_counts, bins = np.histogram(prior_samples\n",
    "                                , zero_to_one)\n",
    "print(fit_counts)\n",
    "print(zero_to_one)"
   ]
  },
  {
   "cell_type": "code",
   "execution_count": null,
   "metadata": {},
   "outputs": [],
   "source": [
    "# normalize histogram\n",
    "normalized_fit_counts = []\n",
    "for item in fit_counts:\n",
    "    normalized_fit_counts.append(float(item)/sum(fit_counts))  \n",
    "print(normalized_fit_counts)"
   ]
  },
  {
   "cell_type": "code",
   "execution_count": null,
   "metadata": {},
   "outputs": [],
   "source": [
    "#plot\n",
    "f, ax = plt.subplots(1)\n",
    "ax.plot(bins[:-1], normalized_fit_counts)\n",
    "hist_ctr, bins = np.histogram(theta_old\n",
    "                              , zero_to_one)\n",
    "hist_ctr = hist_ctr[:]/np.sum(hist_ctr)\n",
    "ax.plot(bins[:-1], hist_ctr)\n",
    "estimated_prior, previous_click_through_rates = ax.lines\n",
    "ax.legend((estimated_prior, previous_click_through_rates)\n",
    "          ,('Estimated Prior'\n",
    "            , 'Previous Click Through Rates'))\n",
    "ax.grid()\n",
    "ax.set_title(\"Comparing Empirical Prior with Previous Click Through Rates\")\n",
    "plt.show()"
   ]
  },
  {
   "cell_type": "code",
   "execution_count": null,
   "metadata": {},
   "outputs": [],
   "source": [
    "import pymc3 as pm\n",
    "\n",
    "#create our data:clicks = np.array([n_clicks])\n",
    "#clicks represents our successes. We observed 7 clicks.impressions = np.array([n_impressions])\n",
    "#this represents the number of trials. There were 10 impressions.\n",
    "\n",
    "with pm.Model() as model:\n",
    "#sets a context; all code in block \"belongs\" to the model object\n",
    "\n",
    "    theta_prior = pm.Beta('prior', 11.5, 48.5)\n",
    "    #our prior distribution, Beta (11.5, 48.5)\n",
    "    observations = pm.Binomial('obs',n = impressions\n",
    "                               , p = theta_prior\n",
    "                               , observed = clicks)     #Sampling distribition of outcomes in the dataset.\n",
    "    #our prior p_prior will be updated with data\n",
    "\n",
    "\n",
    "    start = pm.find_MAP()    #find good starting values for the sampling algorithm\n",
    "    #Max Aposterior values, or values that are most likely\n",
    "\n",
    "    step = pm.NUTS(state=start)     #Choose a particular MCMC algorithm     \n",
    "    #we'll choose NUTS, the No U-Turn Sampler (Hamiltonian)\n",
    "\n",
    "    trace = pm.sample(5000\n",
    "                      , step\n",
    "                      , start=start\n",
    "                      , progressbar=True)               #obtain samples"
   ]
  },
  {
   "cell_type": "code",
   "execution_count": null,
   "metadata": {
    "collapsed": true
   },
   "outputs": [],
   "source": [
    "#plot the histogram of click through rates\n",
    "plt.rcParams['figure.figsize'] = (16, 7)\n",
    "#get histogram of samples from posterior distribution of CTRs\n",
    "posterior_counts, posterior_bins = np.histogram(trace['prior']\n",
    "                                                ,bins=zero_to_one)\n",
    "#normalized histogramposterior_counts = posterior_counts / float(posterior_counts.sum())\n",
    "#take the mean of the samples as most plausible value\n",
    "most_plausible_theta = np.mean(trace['prior'])\n",
    "#histogram of samples from prior distribution\n",
    "prior_counts, bins = np.histogram(prior_samples\n",
    "                                  , zero_to_one)#normalize\n",
    "prior_counts = map(lambda x: float(x)/prior_counts.sum()\n",
    "                   , prior_counts)\n",
    "#plot\n",
    "f, ax = plt.subplots(1)\n",
    "ax.plot(possible_theta_values, likelihoods)\n",
    "ax.plot(bins[:-1],prior_counts, alpha = .2)\n",
    "ax.plot(bins[:-1],posterior_counts)\n",
    "ax.axvline(most_plausible_theta, linestyle = \"--\", alpha = .2)\n",
    "line1, line2, line3, line4 = ax.lines\n",
    "ax.legend((line1, line2, line3, line4), ('Evidence'\n",
    "                                         , 'Prior Probability for Theta'\n",
    "                                         , 'Posterior Probability for Theta'\n",
    "                                         , 'Most Plausible Theta'\n",
    "                                        ), loc = 'upper left')\n",
    "ax.set_xlabel(\"Theta\")\n",
    "ax.grid()\n",
    "ax.set_title(\"Prior Distribution Updated with Some Evidence\")\n",
    "plt.show()"
   ]
  },
  {
   "cell_type": "code",
   "execution_count": null,
   "metadata": {
    "collapsed": true
   },
   "outputs": [],
   "source": [
    "f, ax = plt.subplots(1)\n",
    "ax.plot(bins[:-1],prior_counts, alpha = .2)\n",
    "\n",
    "counts = {}\n",
    "for ad_impressions in [10, 100, 1000, 10000]:\n",
    "    trace = traces[ad_impressions]\n",
    "    posterior_counts, posterior_bins = np.histogram(trace['prior'], bins=[j/100. for j in xrange(100)])\n",
    "    posterior_counts = posterior_counts / float(len(trace))\n",
    "    ax.plot(bins[:-1], posterior_counts)\n",
    "line0, line1, line2, line3, line4 = ax.lines\n",
    "ax.legend((line0, line1, line2, line3, line4), ('Prior Distribution'\n",
    "                                                ,'Posterior after 10 Impressions'\n",
    "                                                , 'Posterior after 100 Impressions'\n",
    "                                                , 'Posterior after 1000 Impressions'\n",
    "                                                ,'Posterior after 10000 Impressions'))\n",
    "ax.set_xlabel(\"Theta\")\n",
    "ax.axvline(ctr, linestyle = \"--\", alpha = .5)\n",
    "ax.grid()\n",
    "ax.set_ylabel(\"Probability of Theta\")\n",
    "ax.set_title(\"Posterior Shifts as Weight of Evidence Increases\")\n",
    "plt.show()"
   ]
  },
  {
   "cell_type": "code",
   "execution_count": null,
   "metadata": {
    "collapsed": true
   },
   "outputs": [],
   "source": []
  },
  {
   "cell_type": "code",
   "execution_count": null,
   "metadata": {
    "collapsed": true
   },
   "outputs": [],
   "source": []
  }
 ],
 "metadata": {
  "kernelspec": {
   "display_name": "Python 3",
   "language": "python",
   "name": "python3"
  },
  "language_info": {
   "codemirror_mode": {
    "name": "ipython",
    "version": 3
   },
   "file_extension": ".py",
   "mimetype": "text/x-python",
   "name": "python",
   "nbconvert_exporter": "python",
   "pygments_lexer": "ipython3",
   "version": "3.5.3"
  }
 },
 "nbformat": 4,
 "nbformat_minor": 2
}
